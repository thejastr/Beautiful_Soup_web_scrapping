{
 "cells": [
  {
   "cell_type": "code",
   "execution_count": 1,
   "metadata": {},
   "outputs": [],
   "source": [
    "import requests as req\n",
    "URL='https://www.firstpost.com/firstcricket/sports-news/ipl-2020-points-table-orange-cap-and-purple-cap-latest-table-today-dc-seal-second-spot-rcb-also-enter-playoffs-8831651.html'"
   ]
  },
  {
   "cell_type": "code",
   "execution_count": 2,
   "metadata": {},
   "outputs": [],
   "source": [
    "r=req.get(URL)"
   ]
  },
  {
   "cell_type": "code",
   "execution_count": 3,
   "metadata": {},
   "outputs": [],
   "source": [
    "from bs4 import BeautifulSoup\n"
   ]
  },
  {
   "cell_type": "code",
   "execution_count": 4,
   "metadata": {},
   "outputs": [],
   "source": [
    "soup = BeautifulSoup(r.content)"
   ]
  },
  {
   "cell_type": "code",
   "execution_count": 5,
   "metadata": {},
   "outputs": [],
   "source": [
    "tables=soup.find(\"table\")"
   ]
  },
  {
   "cell_type": "code",
   "execution_count": 6,
   "metadata": {},
   "outputs": [],
   "source": [
    "li=[]\n",
    "for i in tables.find_all(\"td\"):\n",
    "    li.append(i.string)"
   ]
  },
  {
   "cell_type": "code",
   "execution_count": 7,
   "metadata": {},
   "outputs": [
    {
     "output_type": "stream",
     "name": "stdout",
     "text": "['Position', 'Team', 'Matches', 'Won', 'Lost', 'NR', 'Net RR', 'Points']\n"
    }
   ],
   "source": [
    "col_names=[]\n",
    "for i in range(0,8):\n",
    "    col_names.append(li[i])\n",
    "print(col_names)"
   ]
  },
  {
   "cell_type": "code",
   "execution_count": 8,
   "metadata": {},
   "outputs": [],
   "source": [
    "import pandas as pd\n",
    "df=pd.DataFrame()"
   ]
  },
  {
   "cell_type": "code",
   "execution_count": 9,
   "metadata": {},
   "outputs": [
    {
     "output_type": "stream",
     "name": "stdout",
     "text": "Position     Team Matches Won Lost NR  Net RR Points\n0        1   MI (Q)      14   9    5  0  +1.107     18\n1        2   DC (Q)      14   8    6  0  -0.109     16\n2        3  SRH (Q)      14   7    7  0  +0.608     14\n3        4  RCB (Q)      14   7    7  0  -0.172     14\n4        5     KKR       14   6    7  0  -0.214     12\n5        6     KXIP      14   6    8  0  -0.162     12\n6        7      CSK      14   6    8  0  -0.455     12\n7        8       RR      14   6    8  0  -0.569     12\n"
    }
   ],
   "source": [
    "for x in range(0,8):\n",
    "    ex_l=[]\n",
    "    for y in range(8+x,72,8):\n",
    "        ex_l.append(li[y])\n",
    "    df[col_names[x]]=ex_l\n",
    "print(df)"
   ]
  },
  {
   "cell_type": "code",
   "execution_count": 10,
   "metadata": {},
   "outputs": [],
   "source": [
    "import csv\n",
    "df.to_csv(\"ipl_points_table.csv\")"
   ]
  },
  {
   "cell_type": "code",
   "execution_count": null,
   "metadata": {},
   "outputs": [],
   "source": []
  }
 ],
 "metadata": {
  "language_info": {
   "codemirror_mode": {
    "name": "ipython",
    "version": 3
   },
   "file_extension": ".py",
   "mimetype": "text/x-python",
   "name": "python",
   "nbconvert_exporter": "python",
   "pygments_lexer": "ipython3",
   "version": 3
  },
  "orig_nbformat": 2,
  "kernelspec": {
   "name": "python_defaultSpec_1604473944189",
   "display_name": "Python 3.6.9 64-bit"
  }
 },
 "nbformat": 4,
 "nbformat_minor": 2
}